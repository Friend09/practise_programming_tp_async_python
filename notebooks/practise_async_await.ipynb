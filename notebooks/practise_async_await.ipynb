{
 "cells": [
  {
   "cell_type": "markdown",
   "metadata": {},
   "source": [
    "# PRACTISE"
   ]
  },
  {
   "cell_type": "code",
   "execution_count": 9,
   "metadata": {},
   "outputs": [],
   "source": [
    "import asyncio\n",
    "import aiohttp\n",
    "import time\n",
    "from typing import List"
   ]
  },
  {
   "cell_type": "markdown",
   "metadata": {},
   "source": [
    "## 1. BASIC ASYNC FUNCTION"
   ]
  },
  {
   "cell_type": "code",
   "execution_count": 10,
   "metadata": {},
   "outputs": [],
   "source": [
    "async def simple_async_function():\n",
    "    \"\"\"A basic async function that simulates some work\"\"\"\n",
    "    print(\"Starting async work...\")\n",
    "    await asyncio.sleep(2)  # Simulates I/O operation (non-blocking)\n",
    "    print(\"Async work completed!\")\n",
    "    return \"Task finished\"\n",
    "\n",
    "# await simple_async_function()"
   ]
  },
  {
   "cell_type": "markdown",
   "metadata": {},
   "source": [
    "## 2. COMPARE ASYNC AND SYNC"
   ]
  },
  {
   "cell_type": "code",
   "execution_count": 15,
   "metadata": {},
   "outputs": [
    {
     "name": "stdout",
     "output_type": "stream",
     "text": [
      "Sync Task 1 started\n",
      "Sync Task 1 completed\n"
     ]
    },
    {
     "data": {
      "text/plain": [
       "'Sync result 1'"
      ]
     },
     "execution_count": 15,
     "metadata": {},
     "output_type": "execute_result"
    }
   ],
   "source": [
    "def synchronous_task(task_id: int, duration: int) -> str:\n",
    "    \"\"\"Synchronous version - blocks the thread\"\"\"\n",
    "    print(f\"Sync Task {task_id} started\")\n",
    "    time.sleep(duration)  # This BLOCKS the thread\n",
    "    print(f\"Sync Task {task_id} completed\")\n",
    "    return f\"Sync result {task_id}\"\n",
    "\n",
    "synchronous_task(1, 5)"
   ]
  },
  {
   "cell_type": "code",
   "execution_count": 17,
   "metadata": {},
   "outputs": [
    {
     "name": "stdout",
     "output_type": "stream",
     "text": [
      "Async Task 1 started\n",
      "Async Task 1 completed\n"
     ]
    },
    {
     "data": {
      "text/plain": [
       "'Async result 1'"
      ]
     },
     "execution_count": 17,
     "metadata": {},
     "output_type": "execute_result"
    }
   ],
   "source": [
    "async def asynchronous_task(task_id: int, duration: int) -> str:\n",
    "    \"\"\"Asynchronous version - doesn't block\"\"\"\n",
    "    print(f\"Async Task {task_id} started\")\n",
    "    await asyncio.sleep(duration)  # This DOESN'T block the thread\n",
    "    print(f\"Async Task {task_id} completed\")\n",
    "    return f\"Async result {task_id}\"\n",
    "\n",
    "await asynchronous_task(1,5)"
   ]
  },
  {
   "cell_type": "markdown",
   "metadata": {},
   "source": [
    "## 3. RUNNING MULTIPLE ASYNC TASKS"
   ]
  },
  {
   "cell_type": "code",
   "execution_count": 18,
   "metadata": {},
   "outputs": [
    {
     "name": "stdout",
     "output_type": "stream",
     "text": [
      "\n",
      "--- SEQUENTIAL EXECUTION ---\n",
      "Async Task 1 started\n",
      "Async Task 1 completed\n",
      "Async Task 2 started\n",
      "Async Task 2 completed\n",
      "Async Task 3 started\n",
      "Async Task 3 completed\n",
      "Sequential time: 6.00 seconds\n"
     ]
    },
    {
     "data": {
      "text/plain": [
       "['Async result 1', 'Async result 2', 'Async result 3']"
      ]
     },
     "execution_count": 18,
     "metadata": {},
     "output_type": "execute_result"
    }
   ],
   "source": [
    "async def run_sequential_tasks():\n",
    "    \"\"\"Run tasks one after another (slower)\"\"\"\n",
    "    print(\"\\n--- SEQUENTIAL EXECUTION ---\")\n",
    "    start_time = time.time()\n",
    "\n",
    "    result1 = await asynchronous_task(1,2)\n",
    "    result2 = await asynchronous_task(2,2)\n",
    "    result3 = await asynchronous_task(3,2)\n",
    "\n",
    "    end_time = time.time()\n",
    "    print(f\"Sequential time: {end_time - start_time:.2f} seconds\")\n",
    "    return [result1, result2, result3]\n",
    "\n",
    "await run_sequential_tasks()"
   ]
  },
  {
   "cell_type": "code",
   "execution_count": 19,
   "metadata": {},
   "outputs": [
    {
     "name": "stdout",
     "output_type": "stream",
     "text": [
      "\n",
      "--- CONCURRENT EXECUTION ---\n",
      "Async Task 1 started\n",
      "Async Task 2 started\n",
      "Async Task 3 started\n",
      "Async Task 1 completed\n",
      "Async Task 2 completed\n",
      "Async Task 3 completed\n",
      "Concurrent time: 2.00 seconds\n"
     ]
    },
    {
     "data": {
      "text/plain": [
       "['Async result 1', 'Async result 2', 'Async result 3']"
      ]
     },
     "execution_count": 19,
     "metadata": {},
     "output_type": "execute_result"
    }
   ],
   "source": [
    "async def run_concurrent_tasks():\n",
    "    \"\"\"Run tasks concurrently (faster)\"\"\"\n",
    "    print(\"\\n--- CONCURRENT EXECUTION ---\")\n",
    "    start_time = time.time()\n",
    "\n",
    "    # Create tasks but don't await them yet\n",
    "    tasks = [\n",
    "        asynchronous_task(1, 2),\n",
    "        asynchronous_task(2, 2),\n",
    "        asynchronous_task(3, 2)\n",
    "    ]\n",
    "\n",
    "    # Wait for all tasks to complete concurrently\n",
    "    results = await asyncio.gather(*tasks)\n",
    "\n",
    "    end_time = time.time()\n",
    "    print(f\"Concurrent time: {end_time - start_time:.2f} seconds\")\n",
    "    return results\n",
    "\n",
    "await run_concurrent_tasks()"
   ]
  },
  {
   "cell_type": "markdown",
   "metadata": {},
   "source": [
    "## 4. REAL-WORLD EXAMPLE: HTTP REQUESTS"
   ]
  },
  {
   "cell_type": "code",
   "execution_count": 22,
   "metadata": {},
   "outputs": [
    {
     "name": "stdout",
     "output_type": "stream",
     "text": [
      "Fetching https://jsonplaceholder.typicode.com/posts/1...\n",
      "✓ Fetched https://jsonplaceholder.typicode.com/posts/1 - Status: 200\n",
      "{'url': 'https://jsonplaceholder.typicode.com/posts/1', 'status': 200, 'data': {'userId': 1, 'id': 1, 'title': 'sunt aut facere repellat provident occaecati excepturi optio reprehenderit', 'body': 'quia et suscipit\\nsuscipit recusandae consequuntur expedita et cum\\nreprehenderit molestiae ut ut quas totam\\nnostrum rerum est autem sunt rem eveniet architecto'}}\n"
     ]
    }
   ],
   "source": [
    "async def fetch_url(session: aiohttp.ClientSession, url: str) -> dict:\n",
    "    \"\"\"Fetch a single URL asynchronously\"\"\"\n",
    "    try:\n",
    "        print(f\"Fetching {url}...\")\n",
    "        async with session.get(url) as response:\n",
    "            data = await response.json()\n",
    "            print(f\"✓ Fetched {url} - Status: {response.status}\")\n",
    "            return {\"url\": url, \"status\": response.status, \"data\": data}\n",
    "    except Exception as e:\n",
    "        print(f\"✗ Error fetching {url}: {e}\")\n",
    "        return {\"url\": url, \"error\": str(e)}\n",
    "\n",
    "\n",
    "url = \"https://jsonplaceholder.typicode.com/posts/1\"\n",
    "# FIX: Corrected typo from ClientSEssion to ClientSession\n",
    "async with aiohttp.ClientSession() as session:\n",
    "    result = await fetch_url(session, url)\n",
    "    print(result)"
   ]
  },
  {
   "cell_type": "code",
   "execution_count": 23,
   "metadata": {},
   "outputs": [
    {
     "name": "stdout",
     "output_type": "stream",
     "text": [
      "\n",
      "--- FETCHING URLS CONCURRENTLY ---\n",
      "Fetching https://jsonplaceholder.typicode.com/posts/1...\n",
      "Fetching https://jsonplaceholder.typicode.com/posts/2...\n",
      "Fetching https://jsonplaceholder.typicode.com/posts/3...\n",
      "✓ Fetched https://jsonplaceholder.typicode.com/posts/2 - Status: 200\n",
      "✓ Fetched https://jsonplaceholder.typicode.com/posts/3 - Status: 200\n",
      "✓ Fetched https://jsonplaceholder.typicode.com/posts/1 - Status: 200\n",
      "All requests completed in 0.33 seconds\n",
      "{'url': 'https://jsonplaceholder.typicode.com/posts/1', 'status': 200, 'data': {'userId': 1, 'id': 1, 'title': 'sunt aut facere repellat provident occaecati excepturi optio reprehenderit', 'body': 'quia et suscipit\\nsuscipit recusandae consequuntur expedita et cum\\nreprehenderit molestiae ut ut quas totam\\nnostrum rerum est autem sunt rem eveniet architecto'}}\n",
      "{'url': 'https://jsonplaceholder.typicode.com/posts/2', 'status': 200, 'data': {'userId': 1, 'id': 2, 'title': 'qui est esse', 'body': 'est rerum tempore vitae\\nsequi sint nihil reprehenderit dolor beatae ea dolores neque\\nfugiat blanditiis voluptate porro vel nihil molestiae ut reiciendis\\nqui aperiam non debitis possimus qui neque nisi nulla'}}\n",
      "{'url': 'https://jsonplaceholder.typicode.com/posts/3', 'status': 200, 'data': {'userId': 1, 'id': 3, 'title': 'ea molestias quasi exercitationem repellat qui ipsa sit aut', 'body': 'et iusto sed quo iure\\nvoluptatem occaecati omnis eligendi aut ad\\nvoluptatem doloribus vel accusantium quis pariatur\\nmolestiae porro eius odio et labore et velit aut'}}\n"
     ]
    }
   ],
   "source": [
    "async def fetch_multiple_urls(urls: List[str]) -> List[dict]:\n",
    "    \"\"\"Fetch multiple URLs concurrently\"\"\"\n",
    "    print(\"\\n--- FETCHING URLS CONCURRENTLY ---\")\n",
    "    start_time = time.time()\n",
    "\n",
    "    async with aiohttp.ClientSession() as session:\n",
    "        # Create tasks for all URLs\n",
    "        tasks = [fetch_url(session, url) for url in urls]\n",
    "\n",
    "        # Wait for all requests to complete\n",
    "        results = await asyncio.gather(*tasks, return_exceptions=True)\n",
    "\n",
    "    end_time = time.time()\n",
    "    print(f\"All requests completed in {end_time - start_time:.2f} seconds\")\n",
    "    return results\n",
    "\n",
    "urls = [\n",
    "    \"https://jsonplaceholder.typicode.com/posts/1\",\n",
    "    \"https://jsonplaceholder.typicode.com/posts/2\",\n",
    "    \"https://jsonplaceholder.typicode.com/posts/3\"\n",
    "]\n",
    "\n",
    "results = await fetch_multiple_urls(urls)\n",
    "for result in results:\n",
    "    print(result, end=\"\\n\")"
   ]
  },
  {
   "cell_type": "markdown",
   "metadata": {},
   "source": [
    "## 5. ASYNC CONTEXT MANAGERS AND GENERATORS"
   ]
  },
  {
   "cell_type": "code",
   "execution_count": null,
   "metadata": {},
   "outputs": [],
   "source": [
    "class AsyncResourceManager:\n",
    "    \"\"\"Example of async context manager\"\"\"\n",
    "\n",
    "    async def __aenter__(self):\n",
    "        print(\"Acquiring async resource...\")\n",
    "        await asyncio.sleep(0.5)  # Simulate resource acquisition\n",
    "        return self\n",
    "\n",
    "    async def __aexit__(self, exc_type, exc_val, exc_tb):\n",
    "        print(\"Releasing async resource...\")\n",
    "        await asyncio.sleep(0.5)  # Simulate resource cleanup"
   ]
  },
  {
   "cell_type": "code",
   "execution_count": 27,
   "metadata": {},
   "outputs": [
    {
     "name": "stdout",
     "output_type": "stream",
     "text": [
      "\n",
      "--- ASYNC CONTEXT MANAGER ---\n",
      "Acquiring async resource...\n",
      "Using the async resource...\n",
      "Releasing async resource...\n",
      "Resource automatically cleaned up!\n"
     ]
    }
   ],
   "source": [
    "async def use_async_context_manager():\n",
    "    \"\"\"Demonstrate async context manager usage\"\"\"\n",
    "    print(\"\\n--- ASYNC CONTEXT MANAGER ---\")\n",
    "    async with AsyncResourceManager() as resource:\n",
    "        print(\"Using the async resource...\")\n",
    "        await asyncio.sleep(1)\n",
    "    print(\"Resource automatically cleaned up!\")\n",
    "\n",
    "\n",
    "await use_async_context_manager()"
   ]
  },
  {
   "cell_type": "markdown",
   "metadata": {},
   "source": [
    "## 6. ERROR HANDLING IN ASYNC CODE\n"
   ]
  },
  {
   "cell_type": "code",
   "execution_count": null,
   "metadata": {},
   "outputs": [
    {
     "name": "stdout",
     "output_type": "stream",
     "text": [
      "\n",
      "--- ERROR HANDLING ---\n",
      "[<coroutine object task_that_might_fail at 0x10b200e40>, <coroutine object task_that_might_fail at 0x10b59f060>, <coroutine object task_that_might_fail at 0x10b59f760>]\n",
      "✓ Task 1 succeeded\n",
      "✗ Error: Task 2 failed!\n",
      "✓ Task 3 succeeded\n"
     ]
    },
    {
     "data": {
      "text/plain": [
       "['Task 1 succeeded', '✗ Error: Task 2 failed!', 'Task 3 succeeded']"
      ]
     },
     "execution_count": 29,
     "metadata": {},
     "output_type": "execute_result"
    }
   ],
   "source": [
    "async def task_that_might_fail(task_id: int, should_fail: bool = False):\n",
    "    \"\"\"Task that might raise an exception\"\"\"\n",
    "    await asyncio.sleep(1)\n",
    "    if should_fail:\n",
    "        raise ValueError(f\"Task {task_id} failed!\")\n",
    "    return f\"Task {task_id} succeeded\"\n",
    "\n",
    "async def handle_async_errors():\n",
    "    \"\"\"Demonstrate error handling in async code\"\"\"\n",
    "    print(\"\\n--- ERROR HANDLING ---\")\n",
    "\n",
    "    tasks = [\n",
    "        task_that_might_fail(1, False),\n",
    "        task_that_might_fail(2, True),   # This will fail\n",
    "        task_that_might_fail(3, False),\n",
    "    ]\n",
    "\n",
    "    # Method 1: Handle each task individually\n",
    "    results = []\n",
    "    for task in tasks:\n",
    "        try:\n",
    "            result = await task\n",
    "            results.append(result)\n",
    "            print(f\"✓ {result}\")\n",
    "        except Exception as e:\n",
    "            error_msg = f\"✗ Error: {e}\"\n",
    "            results.append(error_msg)\n",
    "            print(error_msg)\n",
    "\n",
    "    return results\n",
    "\n",
    "await handle_async_errors()"
   ]
  },
  {
   "cell_type": "markdown",
   "metadata": {},
   "source": [
    "## 7. MAIN EXECUTION FUNCTION\n"
   ]
  },
  {
   "cell_type": "code",
   "execution_count": null,
   "metadata": {},
   "outputs": [],
   "source": []
  },
  {
   "cell_type": "markdown",
   "metadata": {},
   "source": [
    "## 8. HOW TO RUN THIS CODE"
   ]
  },
  {
   "cell_type": "code",
   "execution_count": null,
   "metadata": {},
   "outputs": [],
   "source": []
  }
 ],
 "metadata": {
  "kernelspec": {
   "display_name": "practise_programming_tp_async_python",
   "language": "python",
   "name": "python3"
  },
  "language_info": {
   "codemirror_mode": {
    "name": "ipython",
    "version": 3
   },
   "file_extension": ".py",
   "mimetype": "text/x-python",
   "name": "python",
   "nbconvert_exporter": "python",
   "pygments_lexer": "ipython3",
   "version": "3.11.10"
  }
 },
 "nbformat": 4,
 "nbformat_minor": 2
}
